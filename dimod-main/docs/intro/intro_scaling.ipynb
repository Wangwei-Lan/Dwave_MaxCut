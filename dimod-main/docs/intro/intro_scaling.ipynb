{
 "cells": [
  {
   "cell_type": "markdown",
   "id": "7a151d24",
   "metadata": {},
   "source": [
    "# Scaling for Production"
   ]
  },
  {
   "cell_type": "markdown",
   "id": "68ef2b59",
   "metadata": {},
   "source": [
    "## Your first application"
   ]
  },
  {
   "cell_type": "code",
   "execution_count": 1,
   "id": "e33c76e3",
   "metadata": {},
   "outputs": [],
   "source": [
    "import numpy as np\n",
    "\n",
    "num_items = 100  # results in 10100 binary variables\n",
    "\n",
    "weights = np.random.default_rng(42).random(num_items)"
   ]
  },
  {
   "cell_type": "code",
   "execution_count": 2,
   "id": "b48160d7",
   "metadata": {},
   "outputs": [],
   "source": [
    "import typing\n",
    "\n",
    "import dimod\n",
    "\n",
    "\n",
    "def bin_packing(weights: typing.Sequence[float]) -> dimod.ConstrainedQuadraticModel:\n",
    "    \"\"\"Generate a bin packing problem as a constrained quadratic model.\"\"\"\n",
    "\n",
    "    n = len(weights)\n",
    "    \n",
    "    # y_j indicates that bin j is used\n",
    "    y = [dimod.Binary(f'y_{j}') for j in range(n)]\n",
    "    \n",
    "    # x_i,j indicates that item i is put in bin j\n",
    "    x = [[dimod.Binary(f'x_{i},{j}') for j in range(n)] for i in range(n)]\n",
    "    \n",
    "    cqm = dimod.ConstrainedQuadraticModel()\n",
    "    \n",
    "    # we wish to minimize the number of bins used\n",
    "    cqm.set_objective(sum(y))\n",
    "    \n",
    "    # each item can only go in one bin\n",
    "    for i in range(n):\n",
    "        cqm.add_constraint(sum(x[i]) == 1, label=f'item_placing_{i}')\n",
    "        \n",
    "    # each bin has a capacity that must be respected\n",
    "    for j in range(n):\n",
    "        cqm.add_constraint(sum(weights[i] * x[i][j] for i in range(n)) - y[j] <= 0,\n",
    "                           label=f'capacity_bin_{j}')\n",
    "        \n",
    "    return cqm"
   ]
  },
  {
   "cell_type": "code",
   "execution_count": 3,
   "id": "42749f48",
   "metadata": {},
   "outputs": [
    {
     "name": "stdout",
     "output_type": "stream",
     "text": [
      "365 ms ± 4.81 ms per loop (mean ± std. dev. of 7 runs, 1 loop each)\n"
     ]
    }
   ],
   "source": [
    "%timeit bin_packing(weights)"
   ]
  },
  {
   "cell_type": "markdown",
   "id": "ba0f197f",
   "metadata": {},
   "source": [
    "## Use quicksum"
   ]
  },
  {
   "cell_type": "code",
   "execution_count": 4,
   "id": "8777df69",
   "metadata": {},
   "outputs": [],
   "source": [
    "import typing\n",
    "\n",
    "import dimod\n",
    "\n",
    "\n",
    "def bin_packing(weights: typing.Sequence[float]) -> dimod.ConstrainedQuadraticModel:\n",
    "    \"\"\"Generate a bin packing problem as a constrained quadratic model.\"\"\"\n",
    "\n",
    "    n = len(weights)\n",
    "    \n",
    "    # y_j indicates that bin j is used\n",
    "    y = [dimod.Binary(f'y_{j}') for j in range(n)]\n",
    "    \n",
    "    # x_i,j indicates that item i is put in bin j\n",
    "    x = [[dimod.Binary(f'x_{i},{j}') for j in range(n)] for i in range(n)]\n",
    "    \n",
    "    cqm = dimod.ConstrainedQuadraticModel()\n",
    "    \n",
    "    # we wish to minimize the number of bins used\n",
    "    cqm.set_objective(dimod.quicksum(y))\n",
    "    \n",
    "    # each item can only go in one bin\n",
    "    for i in range(n):\n",
    "        cqm.add_constraint(dimod.quicksum(x[i]) == 1, label=f'item_placing_{i}')\n",
    "        \n",
    "    # each bin has a capacity that must be respected\n",
    "    for j in range(n):\n",
    "        cqm.add_constraint(dimod.quicksum(weights[i] * x[i][j] for i in range(n)) - y[j] <= 0,\n",
    "                           label=f'capacity_bin_{j}')\n",
    "        \n",
    "    return cqm"
   ]
  },
  {
   "cell_type": "code",
   "execution_count": 5,
   "id": "2578ef2f",
   "metadata": {},
   "outputs": [
    {
     "name": "stdout",
     "output_type": "stream",
     "text": [
      "286 ms ± 4.18 ms per loop (mean ± std. dev. of 7 runs, 1 loop each)\n"
     ]
    }
   ],
   "source": [
    "%timeit bin_packing(weights)"
   ]
  },
  {
   "cell_type": "markdown",
   "id": "cbda0d03",
   "metadata": {},
   "source": [
    "## Construct the models individually"
   ]
  },
  {
   "cell_type": "code",
   "execution_count": 6,
   "id": "e3fff2a9",
   "metadata": {},
   "outputs": [],
   "source": [
    "def make_bqm_symbolic(num_variables: int) -> dimod.BinaryQuadraticModel:\n",
    "    return dimod.quicksum(2*dimod.Binary(v) for v in range(num_variables))\n",
    "\n",
    "def make_bqm_labels(num_variables: int) -> dimod.BinaryQuadraticModel:\n",
    "    bqm = dimod.BinaryQuadraticModel('BINARY')\n",
    "    bqm.add_linear_from((v, 2) for v in range(num_variables))\n",
    "    return bqm"
   ]
  },
  {
   "cell_type": "code",
   "execution_count": 7,
   "id": "f6e33deb",
   "metadata": {},
   "outputs": [
    {
     "name": "stdout",
     "output_type": "stream",
     "text": [
      "13.3 ms ± 197 µs per loop (mean ± std. dev. of 7 runs, 100 loops each)\n",
      "191 µs ± 1.24 µs per loop (mean ± std. dev. of 7 runs, 10000 loops each)\n"
     ]
    }
   ],
   "source": [
    "%timeit make_bqm_symbolic(1000)\n",
    "%timeit make_bqm_labels(1000)"
   ]
  },
  {
   "cell_type": "code",
   "execution_count": 8,
   "id": "6f602b79",
   "metadata": {},
   "outputs": [],
   "source": [
    "import typing\n",
    "\n",
    "import dimod\n",
    "\n",
    "\n",
    "def bin_packing(weights: typing.Sequence[float]) -> dimod.ConstrainedQuadraticModel:\n",
    "    \"\"\"Generate a bin packing problem as a constrained quadratic model.\"\"\"\n",
    "\n",
    "    n = len(weights)\n",
    "    \n",
    "    # y_j indicates that bin j is used\n",
    "    y_labels = [f'y_{j}' for j in range(n)]\n",
    "    \n",
    "    # x_i,j indicates that item i is put in bin j\n",
    "    x_labels = [[f'x_{i},{j}' for j in range(n)] for i in range(n)]\n",
    "    \n",
    "    cqm = dimod.ConstrainedQuadraticModel()\n",
    "    \n",
    "    # we wish to minimize the number of bins used\n",
    "    objective = dimod.QuadraticModel()\n",
    "    objective.add_linear_from(((v, 1) for v in y_labels), default_vartype='BINARY')\n",
    "    cqm.set_objective(objective)\n",
    "    \n",
    "    # each item can only go in one bin\n",
    "    for i in range(n):\n",
    "        lhs = dimod.QuadraticModel()\n",
    "        lhs.add_linear_from(((v, 1) for v in x_labels[i]), default_vartype='BINARY')\n",
    "        cqm.add_constraint_from_model(lhs, rhs=1, sense='==', label=f'item_placing_{i}')\n",
    "        \n",
    "    # each bin has a capacity that must be respected\n",
    "    for j in range(n):\n",
    "        lhs = dimod.QuadraticModel()\n",
    "        lhs.add_linear_from(((x_labels[i][j], weights[i]) for i in range(n)), default_vartype='BINARY')\n",
    "        lhs.add_linear(y_labels[j], -1, default_vartype='BINARY')\n",
    "        cqm.add_constraint_from_model(lhs, rhs=0, sense='<=', label=f'capacity_bin_{j}')\n",
    "        \n",
    "    return cqm"
   ]
  },
  {
   "cell_type": "code",
   "execution_count": 9,
   "id": "fd383966",
   "metadata": {},
   "outputs": [
    {
     "name": "stdout",
     "output_type": "stream",
     "text": [
      "98.7 ms ± 1.78 ms per loop (mean ± std. dev. of 7 runs, 10 loops each)\n"
     ]
    }
   ],
   "source": [
    "%timeit bin_packing(weights)"
   ]
  },
  {
   "cell_type": "markdown",
   "id": "96992971",
   "metadata": {},
   "source": [
    "## Don't copy constraints"
   ]
  },
  {
   "cell_type": "code",
   "execution_count": 10,
   "id": "52a44ebf",
   "metadata": {},
   "outputs": [],
   "source": [
    "import typing\n",
    "\n",
    "import dimod\n",
    "\n",
    "\n",
    "def bin_packing(weights: typing.Sequence[float]) -> dimod.ConstrainedQuadraticModel:\n",
    "    \"\"\"Generate a bin packing problem as a constrained quadratic model.\"\"\"\n",
    "\n",
    "    n = len(weights)\n",
    "    \n",
    "    # y_j indicates that bin j is used\n",
    "    y_labels = [f'y_{j}' for j in range(n)]\n",
    "    \n",
    "    # x_i,j indicates that item i is put in bin j\n",
    "    x_labels = [[f'x_{i},{j}' for j in range(n)] for i in range(n)]\n",
    "    \n",
    "    cqm = dimod.ConstrainedQuadraticModel()\n",
    "    \n",
    "    # we wish to minimize the number of bins used\n",
    "    objective = dimod.QuadraticModel()\n",
    "    objective.add_linear_from(((v, 1) for v in y_labels), default_vartype='BINARY')\n",
    "    cqm.set_objective(objective)\n",
    "    \n",
    "    # each item can only go in one bin\n",
    "    for i in range(n):\n",
    "        lhs = dimod.QuadraticModel()\n",
    "        lhs.add_linear_from(((v, 1) for v in x_labels[i]), default_vartype='BINARY')\n",
    "        cqm.add_constraint_from_model(lhs, rhs=1, sense='==', label=f'item_placing_{i}', copy=False)\n",
    "        \n",
    "    # each bin has a capacity that must be respected\n",
    "    for j in range(n):\n",
    "        lhs = dimod.QuadraticModel()\n",
    "        lhs.add_linear_from(((x_labels[i][j], weights[i]) for i in range(n)), default_vartype='BINARY')\n",
    "        lhs.add_linear(y_labels[j], -1, default_vartype='BINARY')\n",
    "        cqm.add_constraint_from_model(lhs, rhs=0, sense='<=', label=f'capacity_bin_{j}', copy=False)\n",
    "        \n",
    "    return cqm"
   ]
  },
  {
   "cell_type": "code",
   "execution_count": 11,
   "id": "06103427",
   "metadata": {},
   "outputs": [
    {
     "name": "stdout",
     "output_type": "stream",
     "text": [
      "66.5 ms ± 319 µs per loop (mean ± std. dev. of 7 runs, 10 loops each)\n"
     ]
    }
   ],
   "source": [
    "%timeit bin_packing(weights)"
   ]
  }
 ],
 "metadata": {
  "kernelspec": {
   "display_name": "Python 3 (ipykernel)",
   "language": "python",
   "name": "python3"
  },
  "language_info": {
   "codemirror_mode": {
    "name": "ipython",
    "version": 3
   },
   "file_extension": ".py",
   "mimetype": "text/x-python",
   "name": "python",
   "nbconvert_exporter": "python",
   "pygments_lexer": "ipython3",
   "version": "3.8.2"
  }
 },
 "nbformat": 4,
 "nbformat_minor": 5
}
